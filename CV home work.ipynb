{
 "cells": [
  {
   "cell_type": "markdown",
   "id": "c8517daf",
   "metadata": {},
   "source": [
    "<h1>Import necessary libraries</h1>\n",
    "\n"
   ]
  },
  {
   "cell_type": "code",
   "execution_count": 1,
   "id": "b028227c",
   "metadata": {},
   "outputs": [
    {
     "name": "stderr",
     "output_type": "stream",
     "text": [
      "2024-06-03 22:27:52.816118: I tensorflow/core/platform/cpu_feature_guard.cc:210] This TensorFlow binary is optimized to use available CPU instructions in performance-critical operations.\n",
      "To enable the following instructions: AVX2 FMA, in other operations, rebuild TensorFlow with the appropriate compiler flags.\n"
     ]
    }
   ],
   "source": [
    "\n",
    "\n",
    "\n",
    "import tensorflow as tf\n",
    "from tensorflow.keras import datasets, layers, models\n",
    "import numpy as np\n",
    "import matplotlib.pyplot as plt\n",
    "from sklearn.metrics import classification_report, confusion_matrix\n",
    "import seaborn as sns\n",
    "\n",
    "\n",
    "\n"
   ]
  },
  {
   "cell_type": "markdown",
   "id": "e59ff4aa",
   "metadata": {},
   "source": [
    "<h1>Load and prepare the CIFAR-10 dataset</h1>"
   ]
  },
  {
   "cell_type": "code",
   "execution_count": null,
   "id": "56715445",
   "metadata": {},
   "outputs": [],
   "source": [
    "(x_train, y_train), (x_test, y_test) = datasets.cifar10.load_data()"
   ]
  },
  {
   "cell_type": "markdown",
   "id": "c824361c",
   "metadata": {},
   "source": [
    "<h1> Convert class vectors to binary labels (1 if can fly, 0 if cannot fly)</h1>"
   ]
  },
  {
   "cell_type": "code",
   "execution_count": 2,
   "id": "c8491950",
   "metadata": {},
   "outputs": [],
   "source": [
    "\n",
    "fly_classes = [0, 2]  # airplane and bird\n",
    "y_train_bin = np.isin(y_train, fly_classes).astype(np.int32)\n",
    "y_test_bin = np.isin(y_test, fly_classes).astype(np.int32)\n",
    "\n"
   ]
  },
  {
   "cell_type": "markdown",
   "id": "e956b9c7",
   "metadata": {},
   "source": [
    "<h1> Normalize pixel values to be between 0 and 1</h1>"
   ]
  },
  {
   "cell_type": "code",
   "execution_count": 3,
   "id": "d8cde648",
   "metadata": {},
   "outputs": [],
   "source": [
    "\n",
    "x_train, x_test = x_train / 255.0, x_test / 255.0\n",
    "\n"
   ]
  },
  {
   "cell_type": "markdown",
   "id": "a0fa1534",
   "metadata": {},
   "source": [
    " <h1>Define the CNN architecture</h1>"
   ]
  },
  {
   "cell_type": "code",
   "execution_count": 4,
   "id": "b7eb1f17",
   "metadata": {},
   "outputs": [
    {
     "name": "stderr",
     "output_type": "stream",
     "text": [
      "/Users/macbookpro/anaconda3/lib/python3.11/site-packages/keras/src/layers/convolutional/base_conv.py:107: UserWarning: Do not pass an `input_shape`/`input_dim` argument to a layer. When using Sequential models, prefer using an `Input(shape)` object as the first layer in the model instead.\n",
      "  super().__init__(activity_regularizer=activity_regularizer, **kwargs)\n"
     ]
    }
   ],
   "source": [
    "\n",
    "model = models.Sequential([\n",
    "    layers.Conv2D(32, (3, 3), activation='relu', input_shape=(32, 32, 3)),\n",
    "    layers.MaxPooling2D((2, 2)),\n",
    "    layers.Conv2D(64, (3, 3), activation='relu'),\n",
    "    layers.MaxPooling2D((2, 2)),\n",
    "    layers.Conv2D(64, (3, 3), activation='relu'),\n",
    "    layers.Flatten(),\n",
    "    layers.Dense(64, activation='relu'),\n",
    "    layers.Dense(1, activation='sigmoid')  # Binary classification: 1 output neuron with sigmoid activation\n",
    "])\n",
    "\n"
   ]
  },
  {
   "cell_type": "markdown",
   "id": "a31ef004",
   "metadata": {},
   "source": [
    "<h1> Compile the model</h1>"
   ]
  },
  {
   "cell_type": "code",
   "execution_count": 5,
   "id": "ae738d19",
   "metadata": {},
   "outputs": [],
   "source": [
    "\n",
    "model.compile(optimizer='adam',\n",
    "              loss='binary_crossentropy',\n",
    "              metrics=['accuracy'])\n",
    "\n"
   ]
  },
  {
   "cell_type": "markdown",
   "id": "c58fda21",
   "metadata": {},
   "source": [
    "<h1>Train the model</h1>"
   ]
  },
  {
   "cell_type": "code",
   "execution_count": 6,
   "id": "e01e6375",
   "metadata": {},
   "outputs": [
    {
     "name": "stdout",
     "output_type": "stream",
     "text": [
      "Epoch 1/10\n",
      "\u001b[1m1563/1563\u001b[0m \u001b[32m━━━━━━━━━━━━━━━━━━━━\u001b[0m\u001b[37m\u001b[0m \u001b[1m33s\u001b[0m 20ms/step - accuracy: 0.8171 - loss: 0.4393 - val_accuracy: 0.8552 - val_loss: 0.3546\n",
      "Epoch 2/10\n",
      "\u001b[1m1563/1563\u001b[0m \u001b[32m━━━━━━━━━━━━━━━━━━━━\u001b[0m\u001b[37m\u001b[0m \u001b[1m32s\u001b[0m 20ms/step - accuracy: 0.8602 - loss: 0.3428 - val_accuracy: 0.8682 - val_loss: 0.3205\n",
      "Epoch 3/10\n",
      "\u001b[1m1563/1563\u001b[0m \u001b[32m━━━━━━━━━━━━━━━━━━━━\u001b[0m\u001b[37m\u001b[0m \u001b[1m33s\u001b[0m 21ms/step - accuracy: 0.8777 - loss: 0.3060 - val_accuracy: 0.8803 - val_loss: 0.2989\n",
      "Epoch 4/10\n",
      "\u001b[1m1563/1563\u001b[0m \u001b[32m━━━━━━━━━━━━━━━━━━━━\u001b[0m\u001b[37m\u001b[0m \u001b[1m34s\u001b[0m 22ms/step - accuracy: 0.8882 - loss: 0.2785 - val_accuracy: 0.8809 - val_loss: 0.2902\n",
      "Epoch 5/10\n",
      "\u001b[1m1563/1563\u001b[0m \u001b[32m━━━━━━━━━━━━━━━━━━━━\u001b[0m\u001b[37m\u001b[0m \u001b[1m34s\u001b[0m 22ms/step - accuracy: 0.8986 - loss: 0.2545 - val_accuracy: 0.8878 - val_loss: 0.2808\n",
      "Epoch 6/10\n",
      "\u001b[1m1563/1563\u001b[0m \u001b[32m━━━━━━━━━━━━━━━━━━━━\u001b[0m\u001b[37m\u001b[0m \u001b[1m36s\u001b[0m 23ms/step - accuracy: 0.9030 - loss: 0.2360 - val_accuracy: 0.8804 - val_loss: 0.3065\n",
      "Epoch 7/10\n",
      "\u001b[1m1563/1563\u001b[0m \u001b[32m━━━━━━━━━━━━━━━━━━━━\u001b[0m\u001b[37m\u001b[0m \u001b[1m35s\u001b[0m 22ms/step - accuracy: 0.9127 - loss: 0.2221 - val_accuracy: 0.8847 - val_loss: 0.2776\n",
      "Epoch 8/10\n",
      "\u001b[1m1563/1563\u001b[0m \u001b[32m━━━━━━━━━━━━━━━━━━━━\u001b[0m\u001b[37m\u001b[0m \u001b[1m35s\u001b[0m 22ms/step - accuracy: 0.9211 - loss: 0.1991 - val_accuracy: 0.8895 - val_loss: 0.2736\n",
      "Epoch 9/10\n",
      "\u001b[1m1563/1563\u001b[0m \u001b[32m━━━━━━━━━━━━━━━━━━━━\u001b[0m\u001b[37m\u001b[0m \u001b[1m32s\u001b[0m 20ms/step - accuracy: 0.9273 - loss: 0.1843 - val_accuracy: 0.8942 - val_loss: 0.2720\n",
      "Epoch 10/10\n",
      "\u001b[1m1563/1563\u001b[0m \u001b[32m━━━━━━━━━━━━━━━━━━━━\u001b[0m\u001b[37m\u001b[0m \u001b[1m34s\u001b[0m 22ms/step - accuracy: 0.9371 - loss: 0.1626 - val_accuracy: 0.8765 - val_loss: 0.3133\n"
     ]
    }
   ],
   "source": [
    "\n",
    "history = model.fit(x_train, y_train_bin, epochs=10, \n",
    "                    validation_data=(x_test, y_test_bin))\n",
    "\n"
   ]
  },
  {
   "cell_type": "markdown",
   "id": "73a2e72f",
   "metadata": {},
   "source": [
    "<h1> Evaluate the model on the testing set</h1>"
   ]
  },
  {
   "cell_type": "code",
   "execution_count": 9,
   "id": "aa869dad",
   "metadata": {},
   "outputs": [
    {
     "name": "stdout",
     "output_type": "stream",
     "text": [
      "\u001b[1m313/313\u001b[0m \u001b[32m━━━━━━━━━━━━━━━━━━━━\u001b[0m\u001b[37m\u001b[0m \u001b[1m2s\u001b[0m 7ms/step\n"
     ]
    }
   ],
   "source": [
    "\n",
    "y_pred = model.predict(x_test)\n",
    "y_pred_bin = (y_pred > 0.5).astype(np.int32)\n",
    "\n"
   ]
  },
  {
   "cell_type": "markdown",
   "id": "f636b2ad",
   "metadata": {},
   "source": [
    "<h1> Compute evaluation metrics and print classification report </h1>"
   ]
  },
  {
   "cell_type": "code",
   "execution_count": 10,
   "id": "2d2b34f0",
   "metadata": {},
   "outputs": [
    {
     "name": "stdout",
     "output_type": "stream",
     "text": [
      "Classification Report:\n",
      "               precision    recall  f1-score   support\n",
      "\n",
      "  Cannot Fly       0.94      0.91      0.92      8000\n",
      "     Can Fly       0.67      0.76      0.71      2000\n",
      "\n",
      "    accuracy                           0.88     10000\n",
      "   macro avg       0.80      0.83      0.82     10000\n",
      "weighted avg       0.88      0.88      0.88     10000\n",
      "\n"
     ]
    }
   ],
   "source": [
    "\n",
    "report = classification_report(y_test_bin, y_pred_bin, target_names=['Cannot Fly', 'Can Fly'])\n",
    "print(\"Classification Report:\\n\", report)\n",
    "\n"
   ]
  },
  {
   "cell_type": "markdown",
   "id": "8dd25b85",
   "metadata": {},
   "source": [
    "<h1> Confusion matrix </h1>"
   ]
  },
  {
   "cell_type": "code",
   "execution_count": 11,
   "id": "b7242a73",
   "metadata": {},
   "outputs": [
    {
     "data": {
      "image/png": "[encoded data removed]",
      "text/plain": [
       "<Figure size 800x600 with 2 Axes>"
      ]
     },
     "metadata": {},
     "output_type": "display_data"
    }
   ],
   "source": [
    "\n",
    "cm = confusion_matrix(y_test_bin, y_pred_bin)\n",
    "plt.figure(figsize=(8, 6))\n",
    "sns.heatmap(cm, annot=True, fmt='d', cmap='Blues', xticklabels=['Cannot Fly', 'Can Fly'], yticklabels=['Cannot Fly', 'Can Fly'])\n",
    "plt.xlabel('Predicted')\n",
    "plt.ylabel('True')\n",
    "plt.title('Confusion Matrix')\n",
    "plt.show()\n"
   ]
  },
  {
   "cell_type": "code",
   "execution_count": null,
   "id": "f11b892a",
   "metadata": {},
   "outputs": [],
   "source": []
  },
  {
   "cell_type": "code",
   "execution_count": null,
   "id": "18c39b6b",
   "metadata": {},
   "outputs": [],
   "source": []
  }
 ],
 "metadata": {
  "kernelspec": {
   "display_name": "Python 3 (ipykernel)",
   "language": "python",
   "name": "python3"
  },
  "language_info": {
   "codemirror_mode": {
    "name": "ipython",
    "version": 3
   },
   "file_extension": ".py",
   "mimetype": "text/x-python",
   "name": "python",
   "nbconvert_exporter": "python",
   "pygments_lexer": "ipython3",
   "version": "3.11.5"
  }
 },
 "nbformat": 4,
 "nbformat_minor": 5
}
